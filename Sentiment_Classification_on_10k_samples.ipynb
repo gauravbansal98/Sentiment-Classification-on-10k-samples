{
  "nbformat": 4,
  "nbformat_minor": 0,
  "metadata": {
    "colab": {
      "name": "Sentiment Classification on 10k samples.ipynb",
      "version": "0.3.2",
      "provenance": []
    },
    "kernelspec": {
      "name": "python3",
      "display_name": "Python 3"
    },
    "accelerator": "GPU"
  },
  "cells": [
    {
      "cell_type": "markdown",
      "metadata": {
        "id": "view-in-github",
        "colab_type": "text"
      },
      "source": [
        "[View in Colaboratory](https://colab.research.google.com/github/gauravbansal98/Sentiment-Classification-on-10k-samples/blob/master/Sentiment_Classification_on_10k_samples.ipynb)"
      ]
    },
    {
      "metadata": {
        "id": "aPUHvz8FMKiL",
        "colab_type": "code",
        "colab": {}
      },
      "cell_type": "code",
      "source": [
        "!apt-get install -y -qq software-properties-common python-software-properties module-init-tools\n",
        "!add-apt-repository -y ppa:alessandro-strada/ppa 2>&1 > /dev/null\n",
        "!apt-get update -qq 2>&1 > /dev/null\n",
        "!apt-get -y install -qq google-drive-ocamlfuse fuse\n",
        "from google.colab import auth\n",
        "auth.authenticate_user()\n",
        "from oauth2client.client import GoogleCredentials\n",
        "creds = GoogleCredentials.get_application_default()\n",
        "import getpass\n",
        "!google-drive-ocamlfuse -headless -id={creds.client_id} -secret={creds.client_secret} < /dev/null 2>&1 | grep URL\n",
        "vcode = getpass.getpass()\n",
        "!echo {vcode} | google-drive-ocamlfuse -headless -id={creds.client_id} -secret={creds.client_secret}"
      ],
      "execution_count": 0,
      "outputs": []
    },
    {
      "metadata": {
        "id": "cbgzxCVUMP2q",
        "colab_type": "code",
        "colab": {}
      },
      "cell_type": "code",
      "source": [
        "!mkdir -p drive\n",
        "!google-drive-ocamlfuse drive"
      ],
      "execution_count": 0,
      "outputs": []
    },
    {
      "metadata": {
        "id": "bBa1kuX8MToa",
        "colab_type": "code",
        "colab": {}
      },
      "cell_type": "code",
      "source": [
        "import tensorflow as tf\n",
        "import numpy as np\n",
        "import pandas as pd\n",
        "import nltk\n",
        "import matplotlib as plt\n",
        "import os\n",
        "os.chdir('drive/sentiment classification on 10k examples using rnn')"
      ],
      "execution_count": 0,
      "outputs": []
    },
    {
      "metadata": {
        "id": "BiKIISQDMV1K",
        "colab_type": "code",
        "colab": {}
      },
      "cell_type": "code",
      "source": [
        "import nltk\n",
        "nltk.download()"
      ],
      "execution_count": 0,
      "outputs": []
    },
    {
      "metadata": {
        "id": "KvLIDW0oMwTb",
        "colab_type": "code",
        "colab": {}
      },
      "cell_type": "code",
      "source": [
        "from collections import Counter\n",
        "import random\n",
        "import time\n",
        "from nltk.tokenize import word_tokenize\n",
        "from nltk.corpus import stopwords\n",
        "from nltk import WordNetLemmatizer\n",
        "import keras\n",
        "from keras.preprocessing.sequence import pad_sequences\n",
        "\n",
        "lemmatizer = WordNetLemmatizer()\n",
        "stop_words = stopwords.words('english')\n",
        "print(stop_words)"
      ],
      "execution_count": 0,
      "outputs": []
    },
    {
      "metadata": {
        "id": "E1va_9NnM0Or",
        "colab_type": "code",
        "colab": {}
      },
      "cell_type": "code",
      "source": [
        "stop_words = ['i', 'me', 'my', 'myself', 'we', 'our', 'ours', 'ourselves', 'you', \"you're\", \"you've\", \"you'll\", \"you'd\", 'your', 'yours', 'yourself', 'yourselves', 'he', 'him', 'his', 'himself', 'she', \"she's\", 'her', 'hers', 'herself', 'it', \"it's\", 'its', 'itself', 'they', 'them', 'their', 'theirs', 'themselves', 'what', 'which', 'who', 'whom', 'this', 'that', \"that'll\", 'these', 'those', 'am', 'is', 'are', 'was', 'were', 'be', 'been', 'being', 'have', 'has', 'had', 'having', 'do', 'does', 'did', 'doing', 'a', 'an', 'the', 'and', 'but', 'if', 'or', 'because', 'as', 'until', 'while', 'of', 'at', 'by', 'for', 'with', 'about', 'against', 'between', 'into', 'through', 'during', 'before', 'after', 'above', 'below', 'to', 'from', 'up', 'down', 'in', 'out', 'on', 'off', 'over', 'under', 'again', 'further', 'then', 'once', 'here', 'there', 'when', 'where', 'why', 'how', 'all', 'any', 'both', 'each', 'few', 'more', 'most', 'other', 'some', 'such', 'only', 'own', 'same', 'so', 'than', 'too', 'very', 's', 't', 'can', 'will', 'just', 'don', 'should', \"should've\", 'now', 'd', 'll', 'm', 'o', 're', 've', 'y', 'ain', 'aren']"
      ],
      "execution_count": 0,
      "outputs": []
    },
    {
      "metadata": {
        "id": "2gK4L4MIM15y",
        "colab_type": "code",
        "colab": {}
      },
      "cell_type": "code",
      "source": [
        "def create_lexicon(pos, neg):\n",
        "  lexicon = []\n",
        "  with open(pos, 'r') as f:\n",
        "    lines = f.readlines()\n",
        "    for line in lines:\n",
        "      line = line.lower()\n",
        "      words = word_tokenize(line)\n",
        "      lexicon += words\n",
        "  \n",
        "  print(len(lexicon))\n",
        "  with open(neg, 'r') as f:\n",
        "    lines = f.readlines()\n",
        "    for line in lines:\n",
        "      line = line.lower()\n",
        "      words = word_tokenize(line)\n",
        "      lexicon += words\n",
        "  \n",
        "  print(len(lexicon))\n",
        "  lexicon = [lemmatizer.lemmatize(word) for word in lexicon]\n",
        "  \n",
        "  lexicon_without_stop_words = []\n",
        "  \n",
        "  for word in lexicon:\n",
        "    if word in stop_words:\n",
        "      continue\n",
        "    else:\n",
        "      lexicon_without_stop_words.append(word)\n",
        "  \n",
        "  print(len(lexicon_without_stop_words))\n",
        "  lexicon = nltk.FreqDist(lexicon_without_stop_words)\n",
        "  \n",
        "  final_lexicon = []\n",
        "\n",
        "  for word in lexicon:\n",
        "   \n",
        "    if 5 < lexicon[word] and len(word) > 2 :\n",
        "      final_lexicon.append(word)\n",
        "      \n",
        "  return final_lexicon"
      ],
      "execution_count": 0,
      "outputs": []
    },
    {
      "metadata": {
        "id": "vqQjTjnfM5Hz",
        "colab_type": "code",
        "colab": {
          "base_uri": "https://localhost:8080/",
          "height": 67
        },
        "outputId": "90655c67-d3d1-4c7d-80d6-53e8fa3736fb"
      },
      "cell_type": "code",
      "source": [
        "lexicon = create_lexicon('pos.txt', 'neg.txt')"
      ],
      "execution_count": 8,
      "outputs": [
        {
          "output_type": "stream",
          "text": [
            "115378\n",
            "230193\n",
            "147281\n"
          ],
          "name": "stdout"
        }
      ]
    },
    {
      "metadata": {
        "id": "_XYUAlf2M7Qc",
        "colab_type": "code",
        "colab": {
          "base_uri": "https://localhost:8080/",
          "height": 70
        },
        "outputId": "c5f97daf-2f19-40bb-ad30-a337fad6b4bc"
      },
      "cell_type": "code",
      "source": [
        "lexicon.append('0.0')\n",
        "lexicon.append('123')\n",
        "lexicon.append('321')\n",
        "print(len(lexicon))\n",
        "print(lexicon)"
      ],
      "execution_count": 9,
      "outputs": [
        {
          "output_type": "stream",
          "text": [
            "3467\n",
            "['rock', 'destined', '21st', 'century', 'new', 'going', 'make', 'splash', 'even', 'greater', 'arnold', 'schwarzenegger', 'van', 'steven', 'gorgeously', 'elaborate', 'ring', 'huge', 'word', 'not', 'describe', 'peter', 'jackson', 'vision', 'effective', 'biopic', 'sometimes', 'like', 'movie', 'fun', 'good', 'place', 'start', 'emerges', 'something', 'rare', 'issue', 'honest', 'doe', \"n't\", 'feel', 'one', 'film', 'provides', 'great', 'insight', 'mindset', 'comic', 'absolute', 'top', 'game', 'offer', 'combination', 'entertainment', 'education', 'perhaps', 'picture', 'ever', 'made', 'literally', 'road', 'hell', 'intention', 'steer', 'turn', 'snappy', 'screenplay', 'edge', 'clever', 'want', 'hate', 'somehow', 'pull', 'take', 'care', 'cat', 'refreshingly', 'different', 'slice', 'asian', 'cinema', 'well', 'worth', 'seeing', 'talking', 'singing', 'head', 'really', 'surprise', 'low-key', 'quality', 'genuine', 'wendigo', 'eye', 'heart', 'mind', 'greatest', 'ultimately', 'reason', 'need', 'story', 'much', 'utterly', 'compelling', 'wrote', 'reputation', 'famous', 'author', 'lived', 'come', 'question', 'overly', 'talky', 'documentary', 'masterpiece', 'four', 'year', 'making', 'ripe', 'beauty', 'willing', 'probe', 'mystery', 'breath', 'fresh', 'air', 'true', 'thoughtful', 'provocative', 'cast', 'includes', 'actor', 'working', 'independent', 'lovely', 'amazing', 'incisive', 'amusing', 'life', 'disturbing', 'evocative', 'imagery', 'hypnotic', 'music', 'composed', 'philip', 'glass', 'everyone', 'connect', 'nice', 'departure', 'standard', 'moviegoing', 'fare', 'score', 'point', 'occasionally', 'melodramatic', 'also', 'extremely', 'love', 'brings', 'romantic', 'minute', 'treasure', 'planet', 'maintains', 'brisk', 'pace', 'race', 'familiar', 'however', 'lack', 'grandeur', 'epic', 'often', 'stevenson', 'tale', 'earlier', 'disney', 'effort', 'help', 'bow', 'wow', 'tone', 'act', 'play', 'someone', 'resembles', 'real', 'kid', 'guaranteed', 'move', 'anyone', 'masterful', 'master', 'filmmaker', 'unique', 'light', 'cute', 'forgettable', 'way', 'effectively', 'teach', 'danger', 'drug', 'think', 'project', 'unfortunately', 'paid', 'would', 'easy', 'give', 'crush', 'title', 'two', 'wedding', 'funeral', 'far', 'hugh', 'grant', 'whimsy', 'though', 'everything', 'might', 'literate', 'smart', 'never', 'took', 'always', 'seemed', 'static', 'perfectly', 'capture', 'hotel', 'vincent', 'day', 'almost', 'spooky', 'mean', 'best', 'work', 'distinctive', 'fascinating', 'replete', 'reward', 'bond', 'outing', 'recent', 'stunt', 'border', 'heavy', 'cgi', 'technology', 'beginning', 'series', 'draw', 'attention', 'circle', 'around', 'better', 'known', 'mark', 'loses', 'bite', 'happy', 'ending', 'rest', 'novel', 'ride', 'surely', 'called', 'time', 'exhilarating', 'yarn', 'que', 'por', 'strong', 'case', 'importance', 'creating', 'sound', 'rhythm', 'lip', 'beat', 'long', 'hair', 'little', 'away', 'gosling', 'performance', 'else', 'people', 'glimpse', 'culture', 'know', 'tender', 'yet', 'darkly', 'funny', 'fable', 'may', 'target', 'old', 'giant', 'creature', 'feature', 'celebrates', 'get', 'kick', 'watching', 'today', 'engaging', 'eccentric', 'career', 'cheap', 'charisma', 'listen', 'reading', 'phone', 'book', 'sandra', 'bullock', 'beautifully', 'transformation', 'chilly', 'martha', 'begin', 'open', 'behind', 'snow', 'dog', 'dose', 'undercover', 'brother', 'run', 'find', 'amuse', 'manages', 'original', 'many', 'idea', 'adam', 'song', 'potential', 'hit', 'simply', 'whole', 'certainly', 'intended', 'spirit', 'piece', 'america', 'enough', 'british', 'still', 'charming', 'whether', \"'re\", 'derrida', 'undeniably', 'playful', 'fellow', 'pleasant', 'held', 'together', 'ensemble', 'american', 'teen', 'since', 'whatever', 'bringing', 'screen', 'tuck', 'everlasting', 'involved', 'madness', 'astonishing', 'animated', 'inner', 'struggle', 'adolescent', 'hero', 'intense', 'invincible', 'herzog', 'alive', 'living', 'morton', 'actress', 'complex', 'character', 'morvern', 'grows', 'shocking', 'part', 'charm', 'rouge', 'avoids', 'obvious', 'humour', 'son', 'bride', 'sense', 'psychological', 'drama', 'burst', 'sudden', 'violence', 'startling', 'slow', 'taut', 'intelligent', 'coming-of-age', 'journey', 'sensitive', 'young', 'girl', 'foster', 'home', 'fierce', 'free', 'dangerous', 'mother', 'hold', 'truly', 'moving', 'experience', 'perfect', 'example', 'art', 'done', 'right', 'heal', 'comfort', 'delicately', 'deeply', 'felt', 'masterfully', 'stylized', 'triumph', 'director', 'deftly', 'suspense', 'whose', 'richer', 'rather', 'substance', 'role', 'either', 'loving', 'rolling', 'loved', 'incredible', 'constructed', 'wait', 'see', 'happens', 'next', 'haneke', 'challenge', 'reality', 'sexual', 'absorbing', 'clarity', 'gone', 'measured', 'painful', 'watch', 'viewer', 'chance', 'rewarded', 'accomplished', 'riveting', 'depressing', 'view', 'iranian', 'close', 'imaginative', 'artsy', 'flourish', 'aside', 'narc', 'gritty', 'preposterous', 'thoroughly', 'incredibly', 'beautiful', 'look', 'buoyant', 'dance', 'death', 'process', 'demonstrate', 'lot', 'hong', 'kong', 'kapur', 'flair', 'landscape', 'adventure', 'elizabeth', 'blast', 'educational', 'energy', 'animation', 'entire', 'sport', 'action', 'exciting', 'field', 'bourne', 'directs', 'traffic', 'location', 'ability', 'focused', 'sincere', 'footage', 'horrifying', 'document', 'recording', 'entertaining', 'child', 'create', 'history', 'powerful', 'detailed', 'significant', 'without', 'lift', 'firmly', 'level', 'hard', 'back', 'boy', 'nothing', 'promising', 'unusual', 'kind', 'horror', 'barely', 'sustain', 'program', 'discovery', 'channel', 'imax', 'clichés', 'perspective', 'photography', 'writer-director', 'burger', 'fan', 'national', 'grief', 'curiosity', 'cynicism', 'fear', 'enjoyed', 'favor', 'surprised', 'quickly', 'memory', 'chicago', 'sophisticated', 'sardonic', 'completely', 'execution', 'steve', 'irwin', 'volume', 'refreshing', 'korean', 'five', 'female', 'high', 'school', 'friend', 'face', 'battle', 'try', 'relationship', 'deeper', 'water', 'surface', 'crime', 'flick', 'common', 'double', 'value', 'enterprise', 'crew', 'previous', 'patience', 'possible', 'sequel', 'comedy', 'rule', 'couple', 'mile', 'blue', 'drink', 'ultimate', 'filled', 'pure', 'excitement', 'seen', 'regard', 'allows', 'finally', 'artist', 'feel-good', 'term', 'edited', 'shot', 'style', 'subject', 'pray', 'rousing', 'lacking', 'mtv', 'mostly', 'engrossing', 'psychologically', 'resonant', 'secret', 'indeed', 'hip-hop', 'metaphor', 'scope', 'ambition', 'dramatic', 'impact', 'holocaust', 'mainly', 'told', 'cube', 'personal', 'revelation', 'big', 'result', 'gentle', 'somewhere', 'short', 'modern', 'neither', 'nor', 'spend', 'stand-up', 'comedian', 'world', 'unlike', 'tell', 'performer', 'key', 'intriguing', 'ambiguity', 'enthralling', 'constantly', 'desire', 'man', 'format', 'manner', 'extreme', 'ops', 'expectation', 'acting', 'dialogue', 'cinematography', 'pay', 'buck', 'hear', 'suffering', 'refugee', 'news', 'human', 'first', 'quiet', 'otherwise', 'respectable', 'excellent', 'sequence', 'obviously', 'chord', 'south', 'magic', 'walk', 'left', 'prove', 'drive', 'show', 'nature', 'fessenden', 'theme', 'important', 'especially', 'finale', 'exactly', 'meal', 'fair', 'coming', 'pair', 'last', 'space', 'merely', 'technical', 'feat', 'russian', 'cinematic', 'talented', 'terribly', 'charismatic', 'star', 'social', 'deal', 'spectacular', 'infectious', 'gem', 'obsession', 'delight', 'newcomer', 'gloriously', 'goofy', 'gory', 'midnight', 'stuff', 'overcomes', 'cliche', 'potent', 'dos', 'honesty', 'sensitivity', 'sens', 'slasher', 'ticket', 'minor', 'balance', 'sweetness', 'paint', 'sad', 'single', 'scene', 'intensely', 'special', 'effect', 'folk', 'cobbled', 'nemesis', 'force', 'humanity', 'george', 'lucas', 'forgotten', 'mike', 'win', 'originality', 'succeed', 'following', 'formula', 'winning', 'offering', 'audience', 'urban', 'welcome', 'hoot', 'half', 'giving', 'innocent', 'well-meaning', 'superior', 'played', 'waydowntown', 'boast', 'factor', 'smack', 'allen', 'plenty', 'laugh', 'line', 'load', 'enjoyable', 'soul', 'enormously', 'likable', 'partly', 'aware', 'grasp', 'absurd', 'determined', 'entertain', 'lively', 'script', 'sharp', 'kiss', 'seem', 'must', 'jason', 'nobody', 'deserves', 'jewish', 'sister', 'husband', 'sweet', 'alabama', 'harmless', 'date', 'surprising', 'behan', 'irish', 'general', 'slowly', 'paced', 'thriller', 'marvelous', 'michael', 'caine', 'faithful', 'premise', 'become', 'parent', 'age', 'fleeting', 'precious', 'matter', 'stephen', 'posse', 'trailer', 'park', 'solidly', 'chiller', 'past', 'aspect', 'harsh', \"'ll\", 'visual', 'likely', 'anywhere', 'miss', 'humor', 'foible', 'behavior', 'return', 'root', 'genre', 'well-made', 'certain', 'intelligence', 'morality', 'science', 'count', 'unforgettable', 'remains', 'solid', 'somewhat', 'heavy-handed', 'account', 'howard', 'hand', 'follows', 'resolutely', 'realistic', 'path', 'uncompromising', 'existence', 'running', 'trapped', 'claustrophobic', 'captivating', 'nair', 'complexity', 'family', 'trial', 'shallow', 'attempt', 'indie', 'rank', 'among', 'flow', 'friendship', 'buried', 'environment', 'traditional', 'moviemaking', 'careful', 'period', 'wit', 'maybe', 'release', 'worst', 'decade', 'honestly', 'analyze', 'bad', 'droll', 'well-acted', 'unexpected', 'feeling', 'huppert', 'landmark', 'cop', 'understands', 'medium', 'amazingly', 'understated', 'jack', 'nicholson', 'britney', 'delivered', 'safe', 'travel', 'fame', 'outside', 'business', 'enjoy', 'nervous', 'mild', 'gang', 'put', 'video', 'spare', 'material', 'understand', 'sure', 'miyazaki', 'undoubtedly', 'tadpole', 'good-natured', 'treat', 'slight', 'pleasure', 'insightful', 'side', 'conflict', 'say', 'another', 'moved', 'bored', 'moment', 'heartbreaking', 'keep', 'queen', 'problem', 'natural', 'gift', 'john', 'english', 'terrific', 'dong', 'power', 'fact', 'leaving', 'sting', 'interesting', 'gut', 'examination', 'joke', 'gripping', 'person', 'becomes', 'enemy', 'writing', 'wear', 'b-movie', 'honor', 'striking', 'fully', 'admirable', 'early', 'clash', 'unabashedly', 'incident', 'mixed', 'emotion', 'combined', 'understanding', 'tsai', 'taken', 'trademark', 'purely', 'propaganda', 'nonetheless', 'timely', 'reminder', 'foreign', 'rise', 'castro', 'production', 'scale', 'satisfy', 'escapism', 'study', 'hollywood', 'could', 'possibly', 'clumsy', 'equally', 'admirably', 'daring', 'mesmerizing', 'exceedingly', 'forget', 'painfully', 'moore', 'impress', 'haynes', 'visit', 'territory', 'examines', 'brought', 'guessing', 'frame', 'touch', 'nerve', 'parker', 'brilliantly', 'source', 'essence', 'hilarious', 'poem', 'absurdist', 'sitcom', 'quite', 'delightful', 'thrilling', 'despite', 'flaw', 'least', 'amy', 'personality', 'polanski', 'typical', 'polished', 'elling', 'christian', 'frailty', 'slightly', 'version', 'nearly', 'denis', 'co-writer', 'impeccable', 'unflinching', 'lead', 'trip', 'motivation', 'unsentimental', 'variation', 'particularly', 'downer', 'passion', 'set', 'strange', 'lovingly', 'filmed', 'taste', 'remarkably', 'accessible', 'affecting', 'buy', 'clooney', 'sustains', 'throughout', 'inventive', 'impressive', 'direction', 'narrative', 'knew', 'spin', 'appreciate', 'intimate', 'large', 'grow', 'full', 'strength', 'warmth', 'vitality', 'believe', 'immensely', 'david', 'playing', 'storyline', 'magical', 'bit', 'plot', 'development', 'touching', 'nostalgia', 'please', 'search', 'jim', 'definitely', 'window', 'imagination', 'todd', 'solondz', 'windtalker', 'pick', 'apart', 'fault', 'admit', 'live', 'present', 'middle', 'musical', 'desperate', 'escape', 'anyway', 'difficult', 'call', 'benefit', 'remember', 'end', 'detail', 'nuance', 'speaks', 'event', 'easily', 'quirky', 'individual', 'figure', 'stand', 'forth', 'chronicle', 'abuse', 'soft', 'deadpan', 'depiction', 'using', 'ship', 'continues', 'longer', 'ahead', 'generation', 'defines', 'transporter', 'dumb', 'witness', 'several', 'happily', 'victim', 'none', 'williams', 'impossible', 'romance', 'pumpkin', 'dare', 'debut', 'first-time', 'romanek', 'considering', 'background', 'thought-provoking', 'peculiar', 'increasingly', 'frightening', 'notch', 'accent', 'emotional', 'positive', 'sit', 'success', 'element', 'direct', 'directorial', 'praise', 'wilde', 'absolutely', 'meaning', 'anything', 'cleverness', 'occasional', 'thankfully', 'fantasy', 'attitude', 'push', 'hunter', 'message', 'trouble', 'every', 'seems', 'fashion', 'shamelessly', 'eat', 'ingredient', 'appetite', 'interview', 'cloying', 'wonderful', 'talk', 'woman', 'offbeat', 'gimmick', 'undeniable', 'messy', 'fat', 'greek', 'sacrifice', 'stirring', 'godard', 'image', 'add', 'balanced', 'fine', 'change', 'necessary', 'politics', 'looking', 'energetic', 'largely', 'isolation', 'trooper', 'gross', 'kinnear', \"'60s\", 'interested', 'stroke', 'ram', 'das', 'grace', 'seeking', 'read', 'disappointed', 'guy', 'brain', 'savvy', 'exploration', 'paranoia', 'legendary', 'writer', 'given', 'caper', 'twist', 'worthy', 'mamet', 'enormous', 'thinking', 'uplifting', 'sentimental', 'usual', 'brilliant', 'rough', 'insomnia', 'pretty', 'precisely', 'soderbergh', 'frontal', 'stop', 'war', 'snapshot', 'china', 'course', 'surreal', 'french', 'simple', 'taking', 'risk', 'choose', 'depth', 'thing', 'predictable', 'italian', 'roman', 'coppola', 'based', 'keeping', 'melodrama', 'emotionally', 'thanks', 'credible', 'delivers', 'able', 'theater', 'spielberg', 'chosen', 'philosophical', 'freedom', 'longing', 'bold', 'lyrical', 'pat', 'notion', 'middle-aged', 'sensual', 'empowerment', 'easier', 'respect', 'wild', 'allowed', 'build', 'uncommonly', 'complete', 'hope', 'satisfying', 'sort', 'food', 'brutal', 'strangely', 'soulful', 'fiction', 'cultural', 'grab', 'remarkable', 'meditation', 'revolution', 'follow', 'creepy', 'committed', 'involving', 'chinese', 'wind', 'acted', 'actual', 'price', 'intricate', 'intellectual', 'weak', 'revenge', 'leading', 'lady', 'perceptive', 'subtle', 'attal', 'mix', 'serious', 'ego', 'jealousy', 'within', 'seemingly', 'marriage', 'proceeding', 'brief', 'pianist', 'nail', 'tight', 'transcends', 'ethnic', 'office', 'successfully', 'willis', 'getting', 'probably', 'appeal', 'tough', 'shake', 'expected', 'sayles', 'contrivance', 'verve', 'gender', 'political', 'damn', 'over-the-top', 'got', 'poignant', 'reveals', 'learn', 'nicely', 'serf', 'society', 'heartfelt', 'quest', 'yearning', 'sexy', 'gorgeous', 'pulled', 'sex', 'sundance', 'glossy', 'glib', 'renner', 'dahmer', 'expect', 'bunch', 'poetry', 'check', 'particular', 'interest', 'student', 'international', 'designed', 'boldly', 'major', 'album', 'satisfies', 'fast-paced', 'minority', 'report', 'truth', 'small', 'amount', 'swim', 'wannabe', 'written', 'produced', 'directed', 'charles', 'authentic', 'jacquot', 'tosca', 'affection', 'monster', 'liked', 'hill', 'jones', 'diary', 'buff', 'unnerving', 'recommend', 'historical', 'alone', 'hey', 'shower', 'coherent', 'vivid', 'although', 'cliched', 'seldahl', 'wollter', 'raise', 'maudlin', 'stunning', 'visuals', 'pretension', 'prof', 'sam', 'confession', 'metropolis', 'breathtaking', 'murderous', 'maid', 'strike', 'dogtown', 'menace', 'vibrant', 'focus', 'upon', 'successful', 'slick', 'witty', 'anderson', 'aesthetic', 'bruce', 'deserve', 'leave', 'building', 'slack', 'scream', 'break', 'job', 'artfully', 'everyday', 'tremendous', 'note', 'use', 'near', 'hour', 'photo', 'flash', 'kaufman', 'creates', 'night', 'matthew', 'killed', 'niro', 'murphy', 'sensibility', 'nonsense', 'happening', 'represents', 'demand', 'tie', 'potter', 'express', 'toward', 'talent', 'moonlight', 'wry', 'pathos', 'virtue', 'dark', 'surprisingly', 'wet', 'stick', 'refuse', 'entirely', 'wound', 'hip', 'clockstoppers', 'unforced', 'delivery', 'toback', 'relatively', 'wrap', 'elegant', 'slapstick', 'antic', 'silly', 'street', 'obscure', 'expression', 'wonder', 'ghost', 'sly', 'others', 'becoming', 'men', 'logic', 'wondering', 'happen', 'wishing', 'pretentious', 'three', 'notorious', 'vulgar', 'highlight', 'inspiring', 'camp', 'splendid', 'ease', 'live-action', 'terrible', 'future', 'cult', 'classic', 'crowd', 'form', 'frida', 'kahlo', 'finest', 'dry', 'stay', 'clear', 'festival', 'producer', 'rohmer', 'delicate', 'bloody', 'visceral', 'language', 'supply', 'complication', 'fantastic', 'theatre', 'featuring', 'velocity', 'momentum', 'repeated', 'identity', 'recall', 'spike', 'lee', 'brown', 'saga', 'falling', 'artful', 'filmmaking', 'soon', 'lends', 'bland', 'sinister', 'well-written', 'cheesy', 'self-deprecating', 'vividly', 'flawed', 'test', 'restrained', 'sick', 'twisted', 'miracle', 'tour', 'gloss', 'unpleasant', 'realize', 'fisher', 'shortcoming', 'fly', 'super', 'agent', 'spy', 'visually', 'funnier', 'strongly', 'anybody', 'spot', 'sandler', 'watchable', 'sordid', 'crane', 'reno', 'uncertain', 'predictably', 'heartwarming', 'desperately', 'susan', 'madonna', 'suck', 'second', 'pleasing', 'adult', 'seven', 'challenging', 'equal', 'innocence', 'wisdom', 'rarely', 'along', 'monsoon', 'subtitle', 'colorful', 'farce', 'type', 'deliver', 'inspired', 'cruel', 'fate', 'thousand', 'qualify', 'tragedy', 'crazy', 'sink', 'exploitation', 'irresistible', 'grand', 'denying', 'integrity', 'exquisitely', 'address', 'local', 'volatile', 'memorable', 'secretary', 'average', 'higher', 'function', 'expertly', 'broad', 'tear', 'catch', 'warm', 'unfamiliar', 'larger', 'realized', 'observation', 'mood', 'intent', 'rich', 'suspenseful', 'moral', 'pacino', 'casting', 'sheer', 'insanity', 'predecessor', 'summer', 'used', 'provide', 'technique', 'tried', 'fail', 'exploit', 'reggio', 'leaf', 'task', 'purpose', 'setting', 'object', 'wide', 'went', 'embrace', 'terror', 'daughter', 'zhang', 'lie', 'genuinely', 'bring', 'happiness', 'hokey', 'fuzzy', 'stylistic', 'managed', 'skill', 'smith', 'charmer', 'yes', 'goal', 'pitfall', 'manipulative', 'appealing', 'fast', 'majidi', 'poetic', 'chilling', 'sight', 'asks', 'faith', 'washington', 'anthony', 'hopkins', 'relentless', 'creation', 'brit', 'serviceable', 'delicious', 'guilty', 'ironic', 'life-affirming', 'degree', 'gross-out', 'contest', 'current', 'inherent', 'smartly', 'nuanced', 'enthusiasm', 'achieves', 'blend', 'telling', 'capturing', 'era', 'meet', 'neil', 'labute', 'uneven', 'homage', 'remake', 'pack', 'dickens', 'mcgrath', 'creative', 'failed', 'connection', 'divine', 'ya-ya', 'sisterhood', 'evoke', 'painting', 'russell', 'corner', 'emperor', 'club', 'steeped', 'atmosphere', 'code', 'ideal', 'spirited', 'viewed', 'prefer', 'celebration', 'sobering', 'ingenious', 'antwone', 'earnest', 'by-the-numbers', 'boat', 'courage', 'conviction', 'class', 'consciousness', 'shtick', 'stone', 'editing', 'lifestyle', 'japan', 'closer', 'lifetime', 'moody', 'deft', 'graceful', 'gradually', 'aggressively', 'counterpart', 'diverting', 'session', 'profound', 'spiritual', 'clothes', 'plan', 'bizarre', 'produce', 'joy', 'fit', 'inside', 'holiday', 'admire', 'old-fashioned', 'egoyan', 'tackle', 'explores', 'crisis', 'compassion', 'passage', 'craft', 'terrifying', 'carefully', 'structured', 'tortured', 'unsettling', 'quietly', 'melancholy', 'sheridan', 'budget', 'affair', 'expose', 'generally', 'providing', 'suggests', 'supposedly', 'liberal', 'tragic', 'scary', 'found', 'ground', 'angry', 'exotic', 'runner', 'rival', 'shakespeare', 'intrigue', 'murder', 'presence', 'reasonably', 'evidence', 'resonate', 'beyond', 'wall', 'marginal', 'rob', 'skip', 'opportunity', 'busy', 'wholesome', 'wanted', 'actually', 'numerous', 'cut', 'ice', 'weird', 'resonance', 'group', 'convenient', 'equivalent', 'dig', 'deep', 'argument', 'empire', 'miller', 'thematic', 'shine', 'bogus', 'ford', 'remembered', 'oscar', 'portrait', 'conflicted', 'soldier', 'athlete', 'onscreen', 'kevin', 'napoleon', 'taylor', 'fill', 'marvel', 'cartoon', 'idiosyncratic', 'instead', 'evokes', 'wrong', 'favorite', 'halfway', 'engaged', 'debate', 'showcase', 'photographed', 'sincerity', 'seeming', 'promise', 'youthful', 'religious', 'indulgent', 'handle', 'overcome', 'weakness', 'utter', 'stuart', 'closely', 'week', 'awkward', 'profile', 'extraordinary', 'eccentricity', 'formulaic', 'lucky', 'wilco', 'record', 'ruin', 'drawn', 'binoche', 'hawn', 'sarandon', 'raunchy', 'hokum', 'satire', 'skin', 'lost', 'wife', 'literary', 'aspiration', 'dazzling', 'dancing', 'inspirational', 'diverse', 'share', 'fairly', 'downbeat', 'parade', 'veers', 'cho', 'appears', 'woo', 'brilliance', 'hinge', 'drop', 'ball', 'exposition', 'modest', 'confidence', 'breezy', 'conventional', 'bitter', 'black', 'delightfully', 'finish', 'loose', 'speak', 'alien', 'silver', 'replaced', 'raw', 'haunting', 'mundane', 'funniest', 'simone', 'wickedly', 'hook', 'afloat', 'romp', 'capacity', 'antidote', 'heat', 'witherspoon', 'run-of-the-mill', 'vehicle', 'max', 'dream', 'pokemon', 'franchise', 'fourth', 'opening', 'credit', 'television', 'inconsequential', 'diversion', 'christmas', 'card', 'repetitive', 'spice', 'superbly', 'adaptation', 'nick', 'pleasurable', 'shadow', 'revealing', 'richly', 'final', 'smooth', 'roger', 'trying', 'humorous', 'clearly', 'reach', 'una', 'sea', \"'ve\", 'wonderfully', 'cynical', 'aimed', 'horse', 'odd', 'screenwriter', 'hoped', 'match', 'contrived', 'mistake', 'department', 'worthwhile', 'thrill', 'conduct', 'sum', 'supposed', 'subversive', 'across', 'popular', 'speaking', 'wise', 'fight', 'warrior', 'explosion', 'implies', 'underlying', 'order', 'created', 'wacky', 'device', 'tap', 'universal', 'haphazard', 'public', 'robin', 'string', 'sappy', 'translation', 'core', 'artistic', 'separate', 'nervy', 'indictment', 'childhood', 'mess', 'scenario', 'tribute', 'inspire', 'depends', 'consistently', 'bright', 'alternately', 'amused', 'throwing', 'jump', 'house', 'bittersweet', 'michel', 'piccoli', 'moviegoer', 'answer', 'besides', 'portrays', 'ambiguous', 'icon', 'highly', 'built', 'repeatedly', 'afraid', 'front', 'timing', 'stupid', 'straight', 'nowhere', 'celebrity', 'art-house', 'critic', 'conversation', 'machine', 'town', 'design', 'central', 'experienced', 'loss', 'anger', 'hawke', 'portrayal', 'subtlety', 'outstanding', 'eric', 'byler', 'simplicity', 'commercial', 'hang', 'ponder', 'roll', 'later', 'sin', 'display', 'range', 'thought', 'chemistry', 'endearing', 'lit', '101', 'stock', 'recognize', 'concerned', 'mentally', 'member', 'voice', 'false', 'step', 'shape', 'latest', 'considerable', 'company', 'self-conscious', 'chew', 'unfolds', 'enjoyably', 'overblown', 'merchant', 'page', 'tasty', 'feast', 'cautionary', 'davis', 'heady', 'auto', 'male', 'approach', 'storytelling', 'japanese', 'sour', 'emptiness', 'entry', 'broomfield', 'eight', 'vital', 'spite', 'scorsese', 'camera', 'mature', 'gifted', 'king', 'except', 'outrageous', 'monty', 'fails', 'engage', 'vaguely', 'mildly', 'saturday', 'matinee', 'spark', 'anime', 'resist', 'nation', 'packed', 'community', 'noyce', 'choice', 'father', 'los', 'concoction', 'chelsea', 'total', 'brand', 'name', 'southern', 'usually', 'contemporary', 'stretch', 'limit', 'relies', 'city', 'expense', 'unless', 'fighting', 'sits', 'blow', 'market', 'eventually', 'lesson', 'wildly', 'prison', 'persona', 'crack', 'belief', 'maker', 'urge', 'foot', 'conveying', 'angst', 'myers', 'dense', 'sci-fi', 'hybrid', 'concern', 'ridiculous', 'blade', 'exists', 'saved', 'competent', 'charlie', 'malkovich', 'greene', 'noble', 'carry', 'handsome', 'shoulder', 'paying', 'lightweight', 'dead', 'starring', 'breakthrough', 'blood', 'demented', 'virtually', 'soundtrack', 'conceit', 'vein', 'situation', 'ramsay', 'turning', 'cheer', 'pop', 'junk', 'slap', 'rendered', 'motion', 'endlessly', 'car', 'throw', 'context', 'cutting', 'subculture', 'perverse', 'hopeful', 'transcend', 'award', 'bag', 'passionate', 'audacious', 'trace', 'sentimentality', 'paradiso', 'haunted', 'team', 'awesome', 'decent', 'france', 'filling', 'familial', 'domestic', 'shame', 'party', 'reign', 'fire', 'angel', 'extended', 'episode', 'touched', 'pity', 'viewing', 'popcorn', 'stage', 'stranger', 'mothman', 'prophecy', 'fall', 'harry', 'admission', 'steal', 'dragon', 'nose', 'scenery', 'showing', 'control', 'fundamental', 'uniformly', 'treatment', 'player', 'convincing', 'irony', 'scare', 'teenager', 'service', 'heaven', 'necessarily', 'apply', 'state', 'kissing', 'jessica', 'grey', 'zone', 'possibility', 'cool', 'ready', 'blockbuster', 'enjoys', 'jagger', 'leigh', 'misery', 'blind', 'prime', 'villain', 'lane', 'hardly', 'poignancy', 'piano', 'teacher', 'genius', 'gag', 'afternoon', 'rental', 'gently', 'consider', 'real-life', 'relate', 'seat', 'glory', 'ago', 'dot', 'plotted', 'appear', 'seinfeld', 'buddy', 'chris', 'sade', 'responsible', 'straightforward', 'versus', 'sentiment', 'achievement', 'weave', 'weirdly', 'sympathetic', 'violent', 'glorious', 'wanting', 'nijinsky', 'cox', 'hoffman', 'private', 'warning', 'rewarding', 'smug', 'submarine', 'hint', 'derivative', 'empathy', 'spectacle', 'nasty', 'band', 'aging', 'destination', 'beguiling', 'color', 'overwhelming', 'lawrence', 'valuable', 'remind', 'devastating', 'manage', 'artifice', 'rap', 'hurt', 'amid', 'appropriate', 'cold', 'meaningful', 'industry', 'subtly', 'satirical', 'crafted', 'absurdity', 'protagonist', 'plight', 'austin', 'smarter', 'spoof', 'allow', 'woody', 'land', 'emphasizes', 'unintentionally', 'winner', 'doubt', 'list', 'studio', 'casual', 'sleep', 'stylish', 'damned', 'said', 'addition', 'growing', 'ryan', 'let', 'consequence', 'writer/director', 'joe', 'cover', 'clunky', 'lapse', 'presented', 'mixture', 'spontaneity', 'characterization', 'develops', 'empty', 'unsatisfying', 'finely', 'betrayal', 'didactic', 'presentation', '2002', 'quarter', 'lover', 'obstacle', 'beneath', 'odds', 'basis', 'shooting', 'interpretation', 'patient', 'assured', 'hollow', 'despair', 'chamber', 'veteran', 'joan', 'bottom', 'traveler', 'behold', 'com', 'para', 'donovan', 'shyamalan', 'daniel', 'jaglom', 'must-see', 'costume', 'locale', 'ambitious', 'definition', 'suffers', 'concept', 'drag', 'mysterious', 'spring', 'pain', 'wilson', 'save', 'avoid', 'familiarity', 'turned', 'reduces', 'potentially', 'bogdanovich', 'celluloid', 'surround', 'chuckle', 'belly', 'contains', 'convey', 'reaction', 'watched', 'altogether', 'paul', 'western', 'pointed', 'tune', 'bother', 'preachy', 'already', 'reminds', 'robert', 'frustrating', 'oddly', 'stomach', 'content', 'jane', 'ugly', 'unlikely', 'topic', 'category', 'tedious', 'carmen', 'disappointing', 'banter', 'entertained', 'jackie', 'chan', 'influence', 'amiable', 'physical', 'kissinger', 'criminal', 'aim', 'sympathy', 'grim', 'eastwood', 'serial', 'killer', 'redundant', 'passing', 'scott', 'capable', 'adventurous', 'third', 'baby', 'finding', 'god', 'tension', 'affleck', 'partner', 'letter', 'well-crafted', 'red', 'bridge', 'fanciful', 'duma', 'sentence', 'magnificent', 'blair', 'witch', 'trick', 'existential', 'nickleby', 'eddie', 'gay', 'mendes', 'emerge', 'justice', 'grind', 'white', 'trash', 'rose', 'collateral', 'damage', 'marquis', 'paxton', 'birot', 'awful', 'racial', 'repetition', 'quick', 'solution', 'accurate', 'hoping', 'eck', 'sever', 'xxx', 'overlong', 'belongs', 'sadness', 'specific', 'instinct', 'practice', 'theatrical', 'waiting', 'filme', 'length', 'creativity', 'objective', 'fake', 'defies', 'urgency', 'copy', 'opera', 'endure', 'equilibrium', 'martin', 'frustration', 'practically', 'weight', 'lurid', 'alienation', 'decided', 'nicholas', 'trek', 'country', 'low-budget', 'missing', 'fence', 'artificial', 'holm', 'effortlessly', 'resolution', 'beach', 'structure', 'nightmare', 'younger', 'overall', 'drab', 'reunion', 'concert', \"'70s\", 'brooding', 'room', 'body', 'include', 'fabric', 'reflection', 'considered', 'european', 'mad', 'mask', 'convinced', 'exercise', 'hot', 'undone', 'offend', 'exceptional', 'chateau', 'cleverly', 'difference', 'tom', 'impression', 'confirms', 'fincher', 'status', 'flashback', 'constant', 'system', 'harrowing', 'pulse', 'bone', 'macdowell', 'conception', 'dramatically', 'esther', 'crystal', 'chabrol', 'bleak', 'intermittently', 'convoluted', 'ode', 'excess', 'dynamic', 'positively', 'comfortable', 'naturalistic', 'rent', 'bubble', 'demon', 'construction', 'imagine', 'helped', 'twice', 'knowing', 'sensational', 'revelatory', 'proof', 'evil', 'dealing', 'intensity', 'combat', 'dying', 'money', 'passable', 'released', 'legal', 'trust', 'delivering', 'escapist', 'bill', 'directing', 'quirk', 'college', 'corny', '20th', 'tony', 'noir', 'harris', 'suggest', 'brosnan', 'tossed', 'undisputed', 'chase', 'goodfellas', 'pic', 'uma', 'brian', 'palma', 'ear', 'candy', 'minimalist', 'seductive', 'james', 'similarly', 'humorless', 'reminded', 'birthday', 'juvenile', 'trifle', 'smile', 'intoxicating', 'onto', 'curious', 'due', 'parable', 'collision', 'stereotype', 'kept', 'wave', 'number', 'essentially', 'exceptionally', 'rip-off', 'opaque', 'chill', 'anne', 'punch', 'hole', 'waste', 'employ', 'teenage', 'intimacy', 'complicated', 'terrorist', 'failure', 'sleeve', 'condition', 'million', 'solaris', 'inept', 'oliver', 'encounter', 'tradition', 'low', 'lan', 'erotic', 'downright', 'angle', 'bigger', 'measure', 'mainstream', 'circuit', 'demonstrates', 'heroine', 'richard', 'diane', 'surrounding', 'digital', 'muddled', 'frankly', 'struggling', 'finger', 'elusive', 'crisp', 'fairy', 'walked', 'cause', 'green', 'silliness', 'web', 'mention', 'saw', 'silent', 'sign', 'wish', 'con', 'pedigree', 'specifically', 'whale', 'sorry', 'combine', 'testament', 'shock', 'store', 'succeeds', 'lampoon', 'cartoonish', 'frank', 'realism', 'tambor', 'strain', 'season', 'pas', 'pink', 'heard', \"'the\", 'noise', 'mouth', 'payne', 'laughing', 'beast', 'collection', 'notice', 'laughter', 'saccharine', 'darker', 'unfaithful', 'primarily', 'trapping', 'daytime', 'soap', 'lump', 'silence', 'rate', 'serving', 'fluff', 'came', 'deadly', 'whimsical', 'saying', 'youth', 'loneliness', 'legged', 'freak', 'remain', 'allegory', 'thin', 'impulse', 'uneasy', 'center', 'dirty', 'deed', 'comedic', 'verbal', 'seriously', 'k-19', 'exploitative', 'morally', 'movement', 'credibility', 'confident', 'unpredictable', 'letting', 'insanely', 'henry', 'argue', 'kiddie', 'basic', 'vintage', 'brutally', 'refusal', 'train', 'imitation', 'york', 'stumble', 'top-notch', 'started', 'sweetly', 'main', 'cost', 'rambling', 'gun', 'believing', 'fish', 'boring', 'worse', 'technically', 'superb', 'distance', 'bard', 'stuck', 'dvd', 'dysfunctional', 'assassin', 'limited', 'unable', 'exception', 'convention', 'whenever', 'late', 'sweeping', 'freshness', 'mattei', 'cell', 'trashy', 'mar', '90-minute', 'cannes', 'hugely', 'chest', 'simultaneously', 'experiment', 'sane', 'captured', 'decidedly', 'elegantly', 'dignity', 'happened', 'theory', 'thomas', 'schmidt', 'demanding', 'somebody', 'spider-man', 'reminiscent', 'curve', 'swallow', 'mindless', 'hank', 'sitting', 'tiny', 'carried', 'unfocused', 'dull', '100', 'schaeffer', 'strictly', 'critical', 'disaster', 'variety', 'pitch', 'spread', 'burn', 'acceptable', 'developed', 'cheese', 'bullet', 'cable', 'irritating', 'endeavor', 'martial', 'believable', 'earth', 'hilarity', 'crucial', 'friday', 'excuse', 'nevertheless', 'feather', 'sand', 'older', 'hype', 'spell', 'barry', 'evans', 'ballot', 'chick', 'wholly', 'highest', 'generous', 'frequently', 'overwrought', 'sketchy', 'sparkling', 'exquisite', 'convince', 'various', 'retread', 'jolt', 'rush', \"'it\", 'earnestness', 'somber', 'achingly', 'bartleby', 'cross', 'screaming', 'wood', 'observant', 'abstract', 'knowledge', 'dimension', 'police', 'eyre', 'indian', 'inconsistent', 'proud', 'politically', 'charged', 'screening', 'kidman', 'sell', 'improve', 'unexpectedly', 'manhattan', 'controversy', 'bear', 'abandon', 'freeman', 'wrapped', 'executed', 'daily', 'wreck', 'redemption', 'mayhem', 'spent', 'enigmatic', 'nelson', 'anachronistic', 'blame', 'required', 'broken', 'graphic', 'collapse', 'climactic', 'supernatural', 'thick', 'attraction', 'needed', 'gangster', 'flamboyant', 'nomination', 'die', 'hannibal', 'described', 'swept', 'exploring', 'pale', 'lesser', 'ozpetek', 'explore', 'fluid', 'authority', 'extravaganza', 'barbershop', 'roberto', 'morning', 'undercut', 'desperation', 'cerebral', 'handled', 'supporting', 'awe', 'enthusiastic', 'timeless', 'embarrassment', 'substantial', 'problematic', 'inoffensive', 'including', 'substitute', 'basically', 'reel', 'track', 'neat', 'fancy', 'não', 'exist', 'changing', 'tired', 'construct', 'tense', 'jerry', 'wallace', 'unbelievable', 'meandering', 'installment', 'awfully', 'stupidity', 'conspiracy', 'flashy', 'diesel', 'box', 'confused', 'lame', 'dreary', 'squeeze', 'jolie', 'flower', 'pass', 'performed', 'hackneyed', 'pedestrian', 'uncanny', 'animal', 'plain', 'borrows', 'vampire', 'porn', 'unusually', 'apparently', 'cliché', 'suit', 'meat', 'forgive', 'halloween', 'heavily', 'shoot', 'tepid', 'caring', 'stale', 'impressed', 'pulling', 'frantic', 'served', 'extra', 'pacing', 'swing', 'computer', 'hitting', 'caught', 'scratch', 'improbable', 'scooby', 'astonishingly', 'advantage', 'dish', 'apparent', 'rating', 'conservative', 'philosophy', 'inevitable', 'setup', 'mediocrity', 'mediocre', 'laugh-out-loud', 'drawing', 'wake', 'joyous', 'hartley', 'laughed', 'evening', 'stitch', 'screenwriting', 'properly', 'snipe', 'deception', 'tarantino', 'inspiration', 'saving', 'attractive', 'murky', 'advance', 'encouraging', 'sugar', 'layer', 'rising', 'sloppy', 'mere', 'cage', 'professional', 'del', 'instantly', 'review', 'ponderous', 'totally', 'maintain', 'ask', 'harder', 'slip', 'arrives', 'deceptively', 'shaggy', 'forced', 'commentary', 'cletis', 'clean', 'arrive', 'ironically', 'simplistic', 'similar', 'inexplicable', 'guess', 'como', 'walter', '1970s', 'hallmark', 'explanation', 'worry', 'fart', 'door', 'confusing', 'breaking', 'conclusion', 'rude', 'fool', 'predictability', 'first-rate', 'support', 'prospect', 'swinging', 'rice', 'duke', 'amateurish', 'peak', 'serve', 'suspend', 'disbelief', 'horrible', 'kline', 'dreadful', 'obnoxious', 'shrewd', 'superficial', 'payoff', 'soar', 'banal', 'island', 'rodriguez', 'regret', \"'what\", 'chaotic', 'peek', 'shapeless', 'gore', 'ludicrous', 'thumb', 'vanity', 'curiously', 'biting', 'lingering', 'ordinary', 'inhabit', 'judd', 'sophomoric', 'grew', 'harvard', 'plympton', 'send', 'settle', 'annoying', 'unoriginal', 'upper', 'garbage', 'meaningless', 'portray', 'outcome', 'relentlessly', 'baffling', 'venture', 'feardotcom', 'routine', 'area', 'ten', 'merit', 'sorvino', 'losing', 'initial', 'niche', 'calculated', 'pastiche', 'devoid', 'muted', 'parody', 'alternative', 'achieve', 'seek', 'lazy', 'pun', 'enter', 'shelf', 'barrel', 'shanghai', 'ghetto', 'decide', 'ignore', 'appalling', 'triangle', 'toss', 'ritchie', 'succumbs', 'meant', 'crude', 'tout', 'bar', 'witless', 'west', 'reveal', 'faster', 'clause', 'self-indulgent', 'psychology', 'telegraphed', 'biggest', 'giggle', 'worked', 'academy', 'reference', 'kung', 'pow', 'staged', 'latter', 'eloquent', 'pathetic', 'santa', 'former', 'smoochy', 'uncomfortably', 'big-screen', 'wearing', 'suited', 'jonah', 'exaggerated', 'table', 'belt', 'showtime', 'followed', 'assembled', 'disappointingly', 'trite', 'proportion', 'adequate', 'dubious', 'wasted', 'suspect', 'rote', 'tends', 'generic', 'determination', 'poor', 'survive', 'bruckheimer', 'lush', 'benjamin', 'spinning', 'justify', 'lopez', 'freundlich', 'gravity', 'crudup', 'disjointed', 'squarely', 'scattered', 'endless', 'fatal', 'ben', 'generate', 'ought', 'backdrop', 'pratfall', 'blank', 'after-school', 'recycled', 'loud', 'mean-spirited', 'enigma', 'so-so', 'sadly', 'rooting', 'kinda', 'failing', 'handful', 'goldmember', 'flat', 'missed', 'insulting', 'pulp', 'unintentional', 'paper', 'infomercial', 'demographic', 'hospital', 'deja', 'disposable', 'rescue', 'looked', 'text', 'putting', 'stereotypical', 'well-intentioned', 'six', 'detached', 'nonsensical', 'plotting', 'hide', 'kill', 'pile', 'sorority', 'offensive', 'resident', 'cry', 'feature-length', 'pretend', 'dozen', 'crass', 'tiresome', 'vapid', 'misfire', 'rollerball', 'schneider', 'product', 'comparison', 'toilet', 'demme', 'thrown', 'incoherent', 'ballistic', 'seagal', 'stretched', 'relative', 'sketch', 'badly', 'avary', 'plod', 'pointless', 'mechanical', 'subplots', 'plodding', 'pie', 'unfunny', 'wilder', 'stiff', 'rehash', 'lousy', 'spear', 'named', 'exhausting', 'choppy', 'stealing', 'clue', 'sluggish', 'tuxedo', 'advice', 'clumsily', 'poorly', 'crap', 'deuce', 'leaden', 'swimfan', 'distasteful', 'pool', 'eager', 'limp', 'dreck', 'carvey', 'oedekerk', 'soulless', 'hampered', 'mired', 'lackluster', '4ever', 'lifeless', 'dud', 'uninspired', 'invention', 'jay', 'mckay', 'bore', 'manufactured', 'clichéd', 'remotely', 'disguise', 'listless', 'laughable', 'flimsy', 'unimaginative', 'disappointment', 'labored', 'clunker', 'farrelly', 'gel', 'sara', 'drivel', 'idiot', 'inane', 'soggy', 'unnecessary', 'wooden', 'bog', 'stilted', 'florid', 'disgusting', 'shadyac', 'benigni', 'pinocchio', 'grating', 'unconvincing', 'strained', 'vague', 'ill-conceived', 'random', 'impostor', 'joyless', 'charmless', 'insult', 'costner', 'hastily', 'crossroad', 'implausible', 'miserable', 'slacker', 'redeeming', 'choke', 'mechanic', 'depressed', 'monotonous', 'claim', 'fewer', 'ala', 'unlikable', '0.0', '123', '321']\n"
          ],
          "name": "stdout"
        }
      ]
    },
    {
      "metadata": {
        "id": "HsGKT9AsNEor",
        "colab_type": "code",
        "colab": {}
      },
      "cell_type": "code",
      "source": [
        "pos_file = open('pos.txt', 'r')\n",
        "pos_file_lines = pos_file.readlines()\n",
        "\n",
        "neg_file = open('neg.txt', 'r')\n",
        "neg_file_lines = neg_file.readlines()\n",
        "\n",
        "pos_file.close()\n",
        "neg_file.close()"
      ],
      "execution_count": 0,
      "outputs": []
    },
    {
      "metadata": {
        "id": "weWdi_BMNHf7",
        "colab_type": "code",
        "colab": {}
      },
      "cell_type": "code",
      "source": [
        "def convert_to_list(file):\n",
        "  list_of_eg = []\n",
        "  for line in file:\n",
        "    line = str(line)\n",
        "    line= line.lower()\n",
        "    words = word_tokenize(line)\n",
        "    lemmatized_words = [lemmatizer.lemmatize(word) for word in words]\n",
        "    list_of_eg.append(lemmatized_words)\n",
        "  #print('going out of convert_to_list')\n",
        "  return list_of_eg"
      ],
      "execution_count": 0,
      "outputs": []
    },
    {
      "metadata": {
        "id": "SDuoCcuBNJiK",
        "colab_type": "code",
        "colab": {}
      },
      "cell_type": "code",
      "source": [
        "def padding_process(lines):\n",
        "  \n",
        "  padded_lines = pad_sequences(lines, maxlen = 30, dtype = 'str', padding = 'post', truncating = 'post')\n",
        "\n",
        "  return padded_lines"
      ],
      "execution_count": 0,
      "outputs": []
    },
    {
      "metadata": {
        "id": "beTIPR0VNLDD",
        "colab_type": "code",
        "colab": {}
      },
      "cell_type": "code",
      "source": [
        "def make_feature_vector(file):\n",
        "  \n",
        "  len_of_lexicon = len(lexicon)\n",
        "  no_of_samples = len(file)\n",
        "  feature_vector = []\n",
        "  for line in file:\n",
        "    features_of_line = []\n",
        "    for word in line:\n",
        "      one_hot_vector = np.zeros((len_of_lexicon))\n",
        "      if word in lexicon :\n",
        "        index_in_lexicon = lexicon.index(word)\n",
        "        one_hot_vector[index_in_lexicon] = 1\n",
        "      \n",
        "      features_of_line.append(one_hot_vector)\n",
        "    feature_vector.append(features_of_line)\n",
        "  \n",
        "  feature_vector = np.array(feature_vector)\n",
        "  feature_vector = np.reshape(feature_vector, (no_of_samples, 30, len_of_lexicon))\n",
        "  \n",
        "  return feature_vector"
      ],
      "execution_count": 0,
      "outputs": []
    },
    {
      "metadata": {
        "id": "4esYW-r0NMtj",
        "colab_type": "code",
        "colab": {
          "base_uri": "https://localhost:8080/",
          "height": 70
        },
        "outputId": "7b327f47-f5c2-45df-9050-979b268bac02"
      },
      "cell_type": "code",
      "source": [
        "total_set = []\n",
        "for line in pos_file_lines:\n",
        "  line = \" \" +str(123) + \" \"  + line \n",
        "  line = [line]\n",
        "  total_set.append(line)\n",
        "for line in neg_file_lines:\n",
        "  line = \" \" + str(321) + \" \" + line\n",
        "  line = [line]\n",
        "  total_set.append(line)\n",
        "  \n",
        "np.random.shuffle(total_set)\n",
        "\n",
        "training_set = total_set[:8960]\n",
        "test_set = total_set[8960:10624]\n",
        "\n",
        "training_set = list(training_set)\n",
        "print(training_set[0])\n",
        "\n",
        "print(word_tokenize(str(training_set[0])))\n",
        "  "
      ],
      "execution_count": 14,
      "outputs": [
        {
          "output_type": "stream",
          "text": [
            "[\" 321 it's of the quality of a lesser harrison ford movie - six days , seven nights , maybe , or that dreadful sabrina remake . \\n\"]\n",
            "['[', '``', '321', 'it', \"'s\", 'of', 'the', 'quality', 'of', 'a', 'lesser', 'harrison', 'ford', 'movie', '-', 'six', 'days', ',', 'seven', 'nights', ',', 'maybe', ',', 'or', 'that', 'dreadful', 'sabrina', 'remake', '.', '\\\\n', \"''\", ']']\n"
          ],
          "name": "stdout"
        }
      ]
    },
    {
      "metadata": {
        "id": "3QCONa_j-nyD",
        "colab_type": "code",
        "colab": {}
      },
      "cell_type": "code",
      "source": [
        "os.chdir('/content')\n",
        "!git clone https://github.com/mixuala/colab_utils\n",
        "import colab_utils.tboard\n",
        "ROOT = %pwd\n",
        "print(ROOT)\n",
        "LOG_DIR = os.path.join(ROOT, 'gaurav')\n",
        "print(LOG_DIR)\n",
        "colab_utils.tboard.launch_tensorboard( bin_dir=ROOT, log_dir=LOG_DIR )"
      ],
      "execution_count": 0,
      "outputs": []
    },
    {
      "metadata": {
        "id": "IPrWShUuNOtb",
        "colab_type": "code",
        "colab": {}
      },
      "cell_type": "code",
      "source": [
        "from tensorflow.python.ops import rnn, rnn_cell\n",
        "tf.reset_default_graph()\n"
      ],
      "execution_count": 0,
      "outputs": []
    },
    {
      "metadata": {
        "id": "tPm65B1xNQvT",
        "colab_type": "code",
        "colab": {}
      },
      "cell_type": "code",
      "source": [
        "hm_epochs = 2\n",
        "n_classes = 2\n",
        "batch_size = 64\n",
        "chunk_size = len(lexicon) - 2\n",
        "n_chunks = 27\n",
        "rnn_size = 64"
      ],
      "execution_count": 0,
      "outputs": []
    },
    {
      "metadata": {
        "id": "tBrRSNDONTmy",
        "colab_type": "code",
        "colab": {}
      },
      "cell_type": "code",
      "source": [
        "x = tf.placeholder('float', [None, n_chunks,chunk_size], name = 'input labels')\n",
        "y = tf.placeholder('float', name = 'output labels')\n",
        "dropout_prob = tf.placeholder('float', name = 'dropout value')\n",
        "\n",
        "layer = {'weights':tf.Variable(tf.random_normal([rnn_size,n_classes], name = 'weights')),\n",
        "         'biases':tf.Variable(tf.random_normal([n_classes], name = 'biases'))}"
      ],
      "execution_count": 0,
      "outputs": []
    },
    {
      "metadata": {
        "id": "EWkIvGjcNVDa",
        "colab_type": "code",
        "colab": {}
      },
      "cell_type": "code",
      "source": [
        "def recurrent_neural_network(x):\n",
        "  with tf.name_scope('neural_network'):\n",
        "    x = tf.transpose(x, [1,0,2])\n",
        "    x = tf.reshape(x, [-1, chunk_size])\n",
        "    x = tf.split(x, n_chunks, 0)\n",
        "\n",
        "    lstm_cell = rnn_cell.BasicLSTMCell(rnn_size,state_is_tuple=True)\n",
        "    lstm_cell = tf.nn.rnn_cell.DropoutWrapper(lstm_cell, output_keep_prob=dropout_prob)\n",
        "    outputs, states = rnn.static_rnn(lstm_cell, x, dtype=tf.float32)\n",
        "    \n",
        "\n",
        "    output = tf.matmul(outputs[-1],layer['weights']) + layer['biases']\n",
        "\n",
        "    return output"
      ],
      "execution_count": 0,
      "outputs": []
    },
    {
      "metadata": {
        "id": "sN0DO6sMNaWK",
        "colab_type": "code",
        "colab": {
          "base_uri": "https://localhost:8080/",
          "height": 67
        },
        "outputId": "a61bc064-87a7-434b-c247-cdf0be82bad6"
      },
      "cell_type": "code",
      "source": [
        "def train_neural_network(x):\n",
        "  len_of_lexicon = len(lexicon)\n",
        "  \n",
        "  prediction = recurrent_neural_network(x)\n",
        "  with tf.name_scope('cost'):  \n",
        "    cost = tf.reduce_mean( tf.nn.softmax_cross_entropy_with_logits(logits = prediction, labels = y) )\n",
        "  summary = tf.summary.scalar('total_cost_of_batch', cost)\n",
        "  \n",
        "  with tf.name_scope('optimizer'):\n",
        "    optimizer = tf.train.AdamOptimizer().minimize(cost)\n",
        "    \n",
        "  merged = tf.summary.merge_all()  \n",
        "  with tf.Session() as sess:\n",
        "    sess.run(tf.global_variables_initializer())\n",
        "    train_writer = tf.summary.FileWriter('./gaurav',sess.graph)\n",
        "    k = 0\n",
        "    for epoch in range(hm_epochs):\n",
        "      epoch_loss = 0\n",
        "      starting = 0\n",
        "      end  = batch_size\n",
        "\n",
        "      while end < 8960:\n",
        "        lines = training_set[starting:end]\n",
        "        lines = convert_to_list(lines)\n",
        "        lines = padding_process(lines)\n",
        "        feature_vector = make_feature_vector(lines)\n",
        "\n",
        "        epoch_x = feature_vector[:, 3:, :len_of_lexicon - 2]\n",
        "\n",
        "        epoch_y = feature_vector[:, 2, len_of_lexicon - 2: len_of_lexicon]\n",
        "\n",
        "        epoch_y = epoch_y.reshape((64, 2))\n",
        "\n",
        "        epoch_y = np.array(epoch_y)\n",
        "        epoch_x = epoch_x.reshape((batch_size,n_chunks,chunk_size))\n",
        "\n",
        "        _, c, m = sess.run([optimizer, cost, merged], feed_dict={x: epoch_x, y: epoch_y, dropout_prob: 0.5})\n",
        "        epoch_loss += c\n",
        "        \n",
        "        starting = end\n",
        "        end = end + batch_size\n",
        "        \n",
        "        train_writer.add_summary(m, k)\n",
        "        k += 1\n",
        "\n",
        "      print('Epoch', epoch, 'completed out of',hm_epochs,'loss:',epoch_loss)\n",
        "    \n",
        "\n",
        "    correct = tf.equal(tf.argmax(prediction, 1), tf.argmax(y, 1))\n",
        "\n",
        "    accuracy = tf.reduce_mean(tf.cast(correct, 'float'))\n",
        "\n",
        "    lines = convert_to_list(test_set)\n",
        "    lines = padding_process(lines)\n",
        "    feature_vector = make_feature_vector(lines)\n",
        "\n",
        "\n",
        "    epoch_x = feature_vector[:, 3:, :len_of_lexicon - 2]\n",
        "    epoch_y = feature_vector[:, 2, len_of_lexicon - 2: len_of_lexicon]\n",
        "\n",
        "    epoch_y = epoch_y.reshape((1664, 2))        \n",
        "\n",
        "    print('Accuracy:',accuracy.eval({x:epoch_x, y:epoch_y, dropout_prob : 1.0}))\n",
        "\n",
        "train_neural_network(x)"
      ],
      "execution_count": 36,
      "outputs": [
        {
          "output_type": "stream",
          "text": [
            "Epoch 0 completed out of 2 loss: 94.40527608990669\n",
            "Epoch 1 completed out of 2 loss: 65.5027725994587\n",
            "Accuracy: 0.73257214\n"
          ],
          "name": "stdout"
        }
      ]
    },
    {
      "metadata": {
        "id": "uLutz-R_gMO-",
        "colab_type": "code",
        "colab": {
          "base_uri": "https://localhost:8080/",
          "height": 735
        },
        "outputId": "dba25aab-08dd-4a56-aa2b-4daf4f272276"
      },
      "cell_type": "code",
      "source": [
        "!cat /proc/meminfo"
      ],
      "execution_count": 134,
      "outputs": [
        {
          "output_type": "stream",
          "text": [
            "MemTotal:       13341832 kB\r\n",
            "MemFree:          164452 kB\r\n",
            "MemAvailable:    6782932 kB\r\n",
            "Buffers:          155620 kB\r\n",
            "Cached:          6438668 kB\r\n",
            "SwapCached:            0 kB\r\n",
            "Active:          8631060 kB\r\n",
            "Inactive:        3617556 kB\r\n",
            "Active(anon):    5824724 kB\r\n",
            "Inactive(anon):    99916 kB\r\n",
            "Active(file):    2806336 kB\r\n",
            "Inactive(file):  3517640 kB\r\n",
            "Unevictable:           0 kB\r\n",
            "Mlocked:               0 kB\r\n",
            "SwapTotal:             0 kB\r\n",
            "SwapFree:              0 kB\r\n",
            "Dirty:               280 kB\r\n",
            "Writeback:             0 kB\r\n",
            "AnonPages:       5654368 kB\r\n",
            "Mapped:           803456 kB\r\n",
            "Shmem:            270312 kB\r\n",
            "Slab:             597360 kB\r\n",
            "SReclaimable:     547920 kB\r\n",
            "SUnreclaim:        49440 kB\r\n",
            "KernelStack:        4144 kB\r\n",
            "PageTables:        21740 kB\r\n",
            "NFS_Unstable:          0 kB\r\n",
            "Bounce:                0 kB\r\n",
            "WritebackTmp:          0 kB\r\n",
            "CommitLimit:     6670916 kB\r\n",
            "Committed_AS:    7719548 kB\r\n",
            "VmallocTotal:   34359738367 kB\r\n",
            "VmallocUsed:           0 kB\r\n",
            "VmallocChunk:          0 kB\r\n",
            "AnonHugePages:      6144 kB\r\n",
            "HugePages_Total:       0\r\n",
            "HugePages_Free:        0\r\n",
            "HugePages_Rsvd:        0\r\n",
            "HugePages_Surp:        0\r\n",
            "Hugepagesize:       2048 kB\r\n",
            "DirectMap4k:      389068 kB\r\n",
            "DirectMap2M:    11145216 kB\r\n",
            "DirectMap1G:     4194304 kB\r\n"
          ],
          "name": "stdout"
        }
      ]
    },
    {
      "metadata": {
        "id": "TnhAQpNBHX4S",
        "colab_type": "code",
        "colab": {}
      },
      "cell_type": "code",
      "source": [
        ""
      ],
      "execution_count": 0,
      "outputs": []
    }
  ]
}